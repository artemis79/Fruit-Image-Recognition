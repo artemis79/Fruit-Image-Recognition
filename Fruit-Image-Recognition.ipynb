{
 "cells": [
  {
   "cell_type": "code",
   "execution_count": 423,
   "metadata": {
    "pycharm": {
     "name": "#%%\n"
    }
   },
   "outputs": [],
   "source": [
    "import numpy as np\n",
    "import matplotlib.pyplot as plt\n",
    "import random\n",
    "import pickle\n",
    "from time import process_time\n",
    "import math\n"
   ]
  },
  {
   "cell_type": "markdown",
   "metadata": {},
   "source": [
    "# Reading Data from File\n",
    "Reading data from train_set_features.pkl. There are about 2000 train data and 600 test data\n",
    "each data is a picture of a fruit taken from different angles."
   ]
  },
  {
   "cell_type": "code",
   "execution_count": null,
   "metadata": {
    "pycharm": {
     "name": "#%%\n"
    }
   },
   "outputs": [],
   "source": [
    "# loading training set features\n",
    "f = open(\"Datasets/train_set_features.pkl\", \"rb\")\n",
    "train_set_features2 = pickle.load(f)\n",
    "f.close()\n",
    "\n",
    "# reducing feature vector length\n",
    "features_STDs = np.std(a=train_set_features2, axis=0)\n",
    "train_set_features = train_set_features2[:, features_STDs > 52.3]\n",
    "\n",
    "# changing the range of data between 0 and 1\n",
    "train_set_features = np.divide(train_set_features, train_set_features.max())\n",
    "\n",
    "# loading training set labels\n",
    "f = open(\"Datasets/train_set_labels.pkl\", \"rb\")\n",
    "train_set_labels = pickle.load(f)\n",
    "f.close()\n",
    "\n",
    "# ------------\n",
    "# loading test set features\n",
    "f = open(\"Datasets/test_set_features.pkl\", \"rb\")\n",
    "test_set_features2 = pickle.load(f)\n",
    "f.close()\n",
    "\n",
    "# reducing feature vector length\n",
    "features_STDs = np.std(a=test_set_features2, axis=0)\n",
    "test_set_features = test_set_features2[:, features_STDs > 48]\n",
    "\n",
    "# changing the range of data between 0 and 1\n",
    "test_set_features = np.divide(test_set_features, test_set_features.max())\n",
    "\n",
    "# loading test set labels\n",
    "f = open(\"Datasets/test_set_labels.pkl\", \"rb\")\n",
    "test_set_labels = pickle.load(f)\n",
    "f.close()\n",
    "\n",
    "# ------------\n",
    "# preparing our training and test sets - joining datasets and lables\n",
    "train_set = []\n",
    "test_set = []\n",
    "\n",
    "for i in range(len(train_set_features)):\n",
    "    label = np.array([0, 0, 0, 0])\n",
    "    label[int(train_set_labels[i])] = 1\n",
    "    label = label.reshape(4, 1)\n",
    "    train_set.append((train_set_features[i].reshape(102, 1), label))\n",
    "\n",
    "for i in range(len(test_set_features)):\n",
    "    label = np.array([0, 0, 0, 0])\n",
    "    label[int(test_set_labels[i])] = 1\n",
    "    label = label.reshape(4, 1)\n",
    "    test_set.append((test_set_features[i].reshape(102, 1), label))\n",
    "\n",
    "# shuffle\n",
    "random.shuffle(train_set)\n",
    "random.shuffle(test_set)\n",
    "\n",
    "# print size\n",
    "print(len(train_set))  # 1962\n",
    "print(len(test_set))  # 662"
   ]
  },
  {
   "cell_type": "markdown",
   "metadata": {
    "pycharm": {
     "name": "#%% md\n"
    }
   },
   "source": [
    "# Useful functions\n",
    "down below some functions have been defined that maybe useful for training our model.\n",
    "for example defining activation function and its derivative functions to calculate z\n",
    " and output for each layer and calculating the final result and accuracy"
   ]
  },
  {
   "cell_type": "code",
   "execution_count": 357,
   "metadata": {
    "pycharm": {
     "name": "#%%\n"
    }
   },
   "outputs": [],
   "source": [
    "def sigmoid(x):\n",
    "    return 1/(1+np.exp(-x))\n",
    "\n",
    "def derivative_sigmoid(x):\n",
    "    return sigmoid(x)*(1-sigmoid(x))\n",
    "\n",
    "def calculate_z(input, w, b):\n",
    "    z = np.add(w.dot(input), b)\n",
    "    return z\n",
    "\n",
    "def calculate_z_layers(inputs, weights, biases):\n",
    "    current_input = [inputs]\n",
    "    z_layers = []\n",
    "    for (w, b) in zip(weights, biases):\n",
    "        z_layers.append(calculate_z(current_input[-1], w, b))\n",
    "        current_input.append(sigmoid(calculate_z(current_input[-1], w, b)))\n",
    "    return z_layers\n",
    "\n",
    "\n",
    "def calculate_output(inputs, weights, biases):\n",
    "    output = []\n",
    "    for input in inputs:\n",
    "        current_input = input\n",
    "        for (w, b) in zip(weights, biases):\n",
    "            current_input = sigmoid(calculate_z(current_input, w, b))\n",
    "        output.append(current_input)\n",
    "    return output\n",
    "\n",
    "\n",
    "def calculate_layer_values(inputs, weights, biases):\n",
    "    current = [inputs]\n",
    "    for (w, b) in zip(weights, biases):\n",
    "        current.append(sigmoid(calculate_z(current[-1], w, b)))\n",
    "\n",
    "    return current\n",
    "\n",
    "\n",
    "def calculate_accuracy(output, labels):\n",
    "    num_correct = 0\n",
    "    for i in range(len(output)):\n",
    "        index_max = np.argmax(output[i])\n",
    "        if index_max == labels[i]:\n",
    "            num_correct += 1\n",
    "\n",
    "    return num_correct/len(output)\n"
   ]
  },
  {
   "cell_type": "markdown",
   "metadata": {
    "pycharm": {
     "name": "#%% md\n"
    }
   },
   "source": [
    "# Initialize weights\n",
    "Here is a function to initialize weights with random and initialize biases with\n",
    "array of zeros"
   ]
  },
  {
   "cell_type": "code",
   "execution_count": null,
   "metadata": {
    "pycharm": {
     "name": "#%%\n"
    }
   },
   "outputs": [],
   "source": [
    "def initialize_weights():\n",
    "    #initializing weights\n",
    "    W1 = np.random.normal(0, 0.5, size=(150, 102))\n",
    "    W2 = np.random.normal(0, 0.5, size=(60, 150))\n",
    "    W3 = np.random.normal(0, 0.5, size=(4, 60))\n",
    "\n",
    "    #initializing biases\n",
    "    b1 = np.zeros(150)\n",
    "    b2 = np.zeros(60)\n",
    "    b3 = np.zeros(4)\n",
    "\n",
    "    weights = [W1, W2, W3]\n",
    "    biases = [b1, b2, b3]\n",
    "\n",
    "    return weights, biases\n"
   ]
  },
  {
   "cell_type": "markdown",
   "metadata": {
    "pycharm": {
     "name": "#%% md\n"
    }
   },
   "source": [
    "# FeedForward\n",
    "Here we test our neural network model since the weights are random\n",
    "numbers and the model has not been trained the accuracy in this case\n",
    "will be close to 25%"
   ]
  },
  {
   "cell_type": "code",
   "execution_count": 254,
   "metadata": {
    "pycharm": {
     "name": "#%%\n"
    }
   },
   "outputs": [
    {
     "name": "stdout",
     "output_type": "stream",
     "text": [
      "Accuracy: 0.3\n"
     ]
    }
   ],
   "source": [
    "sample_train, sample_train_label = zip(*random.sample(list(zip(train_set_features, train_set_labels)), 200))\n",
    "weights, biases = initialize_weights()\n",
    "sample_train = np.asarray(sample_train)\n",
    "sample_train_label = np.asarray(sample_train_label)\n",
    "output = np.asarray(calculate_output(sample_train, weights, biases))\n",
    "print(\"Accuracy: \", end='')\n",
    "print(calculate_accuracy(output, sample_train_label))\n"
   ]
  },
  {
   "cell_type": "markdown",
   "metadata": {
    "pycharm": {
     "name": "#%% md\n"
    }
   },
   "source": [
    "# Training\n",
    "I train the model here with backpropagation using two methods iterative learning with \"for\"\n",
    "and vectorized learning with matrix. The training in both methods uses gradient decent with sigmoid\n",
    "activation function.\n",
    "\n",
    "## Iterative training\n",
    "Here we use iterative learning to train our model given learning rate, batch size, number of epochs\n",
    "a training set and labels assigned to the training set."
   ]
  },
  {
   "cell_type": "code",
   "execution_count": 436,
   "outputs": [],
   "source": [
    "def iterative_learning(num_epochs,batch_size, learning_rate, weights, biases, samples, labels):\n",
    "    cost_epochs = []\n",
    "    batches = []\n",
    "    batch_labels = []\n",
    "\n",
    "    train_set = zip(samples, labels)\n",
    "\n",
    "    for n in range(num_epochs):\n",
    "\n",
    "        train_set = [(x, y) for (x, y) in zip(samples, labels)]\n",
    "        random.shuffle(train_set)\n",
    "        for i in range(0, int(len(samples)/batch_size)):\n",
    "            batches.append(train_set[i*batch_size: (i+1)*batch_size])\n",
    "\n",
    "        num_batch = 0\n",
    "        for batch in batches:\n",
    "            grad_W1 = np.zeros((150, len(samples[0])))\n",
    "            grad_W2 = np.zeros((60, 150))\n",
    "            grad_W3 = np.zeros((4, 60))\n",
    "            grad_W = [grad_W1, grad_W2, grad_W3]\n",
    "\n",
    "            grad_b1 = np.zeros(150)\n",
    "            grad_b2 = np.zeros(60)\n",
    "            grad_b3 = np.zeros(4)\n",
    "            grad_b = [grad_b1, grad_b2, grad_b3]\n",
    "\n",
    "            for i in range(batch_size):\n",
    "                data = batch[i][0]\n",
    "                label_res = batch[i][1]\n",
    "                data_label = []\n",
    "                for j in range(4):\n",
    "                    if label_res == j:\n",
    "                        data_label.append(1.0)\n",
    "                    else:\n",
    "                        data_label.append(.0)\n",
    "\n",
    "                layers_output = calculate_layer_values(np.array(data), weights, biases)\n",
    "                z_layers = calculate_z_layers(np.array(data), weights, biases)\n",
    "\n",
    "                #Layer 3\n",
    "                for j in range(np.shape(weights[2])[0]):\n",
    "                    grad = 2 * (layers_output[3][j] - data_label[j]) * derivative_sigmoid(z_layers[2][j])\n",
    "                    grad_b[2][j] += grad\n",
    "\n",
    "                    for k in range(np.shape(weights[2])[1]):\n",
    "                        grad_W[2][j][k] += grad * layers_output[2][k]\n",
    "\n",
    "\n",
    "                grad_a2 = np.zeros(60)\n",
    "                #Layer 2\n",
    "                for j in range(60):\n",
    "                    for k in range(4):\n",
    "                        grad_a2[j] += 2 * (layers_output[3][k]-data_label[k]) * derivative_sigmoid(z_layers[2][k]) * weights[2][k][j]\n",
    "\n",
    "\n",
    "                for j in range(np.shape(weights[1])[0]):\n",
    "                    grad = 2 * grad_a2[j] * derivative_sigmoid(z_layers[1][j])\n",
    "                    grad_b[1][j] += grad\n",
    "\n",
    "                    for k in range(np.shape(weights[1])[1]):\n",
    "                        grad_W[1][j][k] += grad * layers_output[1][k]\n",
    "\n",
    "\n",
    "                grad_a1 = np.zeros(150)\n",
    "                #Layer 1\n",
    "                for j in range(150):\n",
    "                    for k in range(60):\n",
    "                        grad_a1[j] += grad_a2[k] * derivative_sigmoid(z_layers[1][k]) * weights[1][k][j]\n",
    "\n",
    "\n",
    "                for j in range(np.shape(weights[0])[0]):\n",
    "                    grad = grad_a1[j] * derivative_sigmoid(z_layers[0][j])\n",
    "                    grad_b[0][j] += grad\n",
    "\n",
    "                    for k in range(np.shape(weights[0])[1]):\n",
    "                        grad_W[0][j][k] += grad * layers_output[0][k]\n",
    "\n",
    "            for j in range(3):\n",
    "                weights[j] -= learning_rate * grad_W[j]/batch_size\n",
    "                biases[j] -= learning_rate * grad_b[j]/batch_size\n",
    "            num_batch += 1\n",
    "\n",
    "        cost = 0\n",
    "        for train_data in train_set:\n",
    "            a0 = train_data[0]\n",
    "            a1 = sigmoid(weights[0] @ a0 + biases[0])\n",
    "            a2 = sigmoid(weights[1] @ a1 + biases[1])\n",
    "            a3 = sigmoid(weights[2] @ a2 + biases[2])\n",
    "\n",
    "            data_label = np.zeros(4)\n",
    "            for j in range(4):\n",
    "                if train_data[1] == j:\n",
    "                    data_label[j] = 1.0\n",
    "                else:\n",
    "                    data_label[j] = .0\n",
    "\n",
    "            for j in range(4):\n",
    "                cost += np.power((a3[j] - data_label[j]), 2)\n",
    "\n",
    "        cost /= len(samples)\n",
    "        cost_epochs.append(cost)\n",
    "\n",
    "\n",
    "    return cost_epochs, weights, biases\n",
    "\n"
   ],
   "metadata": {
    "collapsed": false,
    "pycharm": {
     "name": "#%%\n"
    }
   }
  },
  {
   "cell_type": "markdown",
   "source": [
    "### Result\n",
    "the result of the iterative learning. the accuracy is high since the images in each classes are\n",
    "really close to each other but images in different classes are really different."
   ],
   "metadata": {
    "collapsed": false
   }
  },
  {
   "cell_type": "code",
   "execution_count": 437,
   "outputs": [
    {
     "name": "stdout",
     "output_type": "stream",
     "text": [
      "Accuracy: 1.0\n",
      "Time: 320.28125\n"
     ]
    }
   ],
   "source": [
    "t_start = process_time()\n",
    "cost_epochs, weights, biases = iterative_learning(5, 10, 1, weights, biases, sample_train, sample_train_label)\n",
    "output = np.asarray(calculate_output(sample_train, weights, biases))\n",
    "print(\"Accuracy: \", end='')\n",
    "print(calculate_accuracy(output, sample_train_label))\n",
    "t_stop = process_time()\n",
    "print(\"Time:\", t_stop-t_start)"
   ],
   "metadata": {
    "collapsed": false,
    "pycharm": {
     "name": "#%%\n"
    }
   }
  },
  {
   "cell_type": "markdown",
   "source": [
    "#### Epochs Cost Graph\n",
    "the graph of epochs cost"
   ],
   "metadata": {
    "collapsed": false
   }
  },
  {
   "cell_type": "code",
   "execution_count": 438,
   "outputs": [
    {
     "name": "stdout",
     "output_type": "stream",
     "text": [
      "[7.938212584315097e-06, 7.934217982268873e-06, 7.928236861484347e-06, 7.920285970086453e-06, 7.910384258767604e-06]\n"
     ]
    },
    {
     "data": {
      "text/plain": "<Figure size 432x288 with 1 Axes>",
      "image/png": "[encoded data removed]"
     },
     "metadata": {
      "needs_background": "light"
     },
     "output_type": "display_data"
    }
   ],
   "source": [
    "#cost_epochs = np.array(cost_epochs)\n",
    "print(cost_epochs)\n",
    "plt.plot(cost_epochs)\n",
    "plt.show()"
   ],
   "metadata": {
    "collapsed": false,
    "pycharm": {
     "name": "#%%\n"
    }
   }
  },
  {
   "cell_type": "markdown",
   "source": [
    "## Vectorized Training\n",
    "Here the model has been trained using Vectorized form and instead of using \"for\" to calculate\n",
    "the gradient of the cost we use matrix multiplication so it is much faster than iterative training"
   ],
   "metadata": {
    "collapsed": false
   }
  },
  {
   "cell_type": "code",
   "execution_count": 424,
   "outputs": [],
   "source": [
    "def vectorized_learning(num_epochs,batch_size, learning_rate, weights, biases, samples, labels):\n",
    "    #cost_epochs = [[0]*4]*num_epochs\n",
    "    cost_epochs = []\n",
    "    batches = []\n",
    "    batch_labels = []\n",
    "\n",
    "    train_set = zip(samples, labels)\n",
    "    total_cost = []\n",
    "\n",
    "    for n in range(num_epochs):\n",
    "\n",
    "        train_set = [(x, y) for (x, y) in zip(samples, labels)]\n",
    "        random.shuffle(train_set)\n",
    "\n",
    "        for i in range(0, int(len(samples)/batch_size)):\n",
    "            batches.append(train_set[i*batch_size: (i+1)*batch_size])\n",
    "\n",
    "        num_batch = 0\n",
    "        for batch in batches:\n",
    "            grad_W1 = np.zeros((150, len(samples[0])))\n",
    "            grad_W2 = np.zeros((60, 150))\n",
    "            grad_W3 = np.zeros((4, 60))\n",
    "            grad_W = [grad_W1, grad_W2, grad_W3]\n",
    "\n",
    "            grad_b1 = np.zeros(150)\n",
    "            grad_b2 = np.zeros(60)\n",
    "            grad_b3 = np.zeros(4)\n",
    "            grad_b = [grad_b1, grad_b2, grad_b3]\n",
    "\n",
    "            for i in range(batch_size):\n",
    "                data = batch[i][0]\n",
    "                label_res = batch[i][1]\n",
    "                data_label = []\n",
    "                for j in range(4):\n",
    "                    if label_res == j:\n",
    "                        data_label.append(1.0)\n",
    "                    else:\n",
    "                        data_label.append(.0)\n",
    "\n",
    "                layers_output = calculate_layer_values(np.array(data), weights, biases)\n",
    "                z_layers = calculate_z_layers(np.array(data), weights, biases)\n",
    "\n",
    "                cost = [0.0]*10\n",
    "                #print(\"*********\")\n",
    "                #print(data_label)\n",
    "                #print(layers_output[3])\n",
    "\n",
    "\n",
    "                #Layer 3\n",
    "                grad_b[2] += 2 * (layers_output[3] - data_label) * derivative_sigmoid(z_layers[2])\n",
    "                grad_W[2] += np.transpose(np.transpose([layers_output[2]]) @ np.array([2 * (layers_output[3]-data_label) * derivative_sigmoid(z_layers[2])]))\n",
    "\n",
    "                #Layer 2\n",
    "                grad_a2 = np.transpose(weights[2]) @ (2 * derivative_sigmoid(z_layers[2]) * (layers_output[3]-data_label))\n",
    "                grad_b[1] += 2 * grad_a2 * derivative_sigmoid(z_layers[1])\n",
    "                grad_W[1] +=np.transpose(np.transpose([layers_output[1]]) @ np.array([grad_a2 * derivative_sigmoid(z_layers[1])]))\n",
    "\n",
    "                #Layer 1\n",
    "                grad_a1 = np.transpose(weights[1]) @ (derivative_sigmoid(z_layers[1]) * grad_a2)\n",
    "                grad_b[0] += grad_a1 * derivative_sigmoid(z_layers[0])\n",
    "                grad_W[0] += np.transpose(np.transpose([layers_output[0]]) @ np.array([grad_a1 * derivative_sigmoid(z_layers[0])]))\n",
    "\n",
    "            for j in range(3):\n",
    "                weights[j] -= learning_rate * (grad_W[j]/batch_size)\n",
    "                biases[j] -= learning_rate * (grad_b[j]/batch_size)\n",
    "            num_batch += 1\n",
    "\n",
    "        cost = 0\n",
    "        for train_data in train_set:\n",
    "            a0 = train_data[0]\n",
    "            a1 = sigmoid(weights[0] @ a0 + biases[0])\n",
    "            a2 = sigmoid(weights[1] @ a1 + biases[1])\n",
    "            a3 = sigmoid(weights[2] @ a2 + biases[2])\n",
    "\n",
    "            data_label = np.zeros(4)\n",
    "            for j in range(4):\n",
    "                if train_data[1] == j:\n",
    "                    data_label[j] = 1.0\n",
    "                else:\n",
    "                    data_label[j] = .0\n",
    "\n",
    "            for j in range(4):\n",
    "                cost += np.power((a3[j] - data_label[j]), 2)\n",
    "\n",
    "        cost /= len(samples)\n",
    "        cost_epochs.append(cost)\n",
    "\n",
    "    return cost_epochs, weights, biases\n"
   ],
   "metadata": {
    "collapsed": false,
    "pycharm": {
     "name": "#%%\n"
    }
   }
  },
  {
   "cell_type": "markdown",
   "source": [
    "### Min Epochs\n",
    "the result of the vectorized learning. the accuracy is high since the images in each classes are\n",
    "really close to each other but images in different classes are really different."
   ],
   "metadata": {
    "collapsed": false,
    "pycharm": {
     "name": "#%% md\n"
    }
   }
  },
  {
   "cell_type": "code",
   "execution_count": 429,
   "outputs": [
    {
     "name": "stdout",
     "output_type": "stream",
     "text": [
      "Accuracy: 1.0\n",
      "Process time: 4.053125\n"
     ]
    }
   ],
   "source": [
    "cost_final = []\n",
    "time = []\n",
    "accuracy = []\n",
    "for i in range(10):\n",
    "    t_start = process_time()\n",
    "    cost_epochs, weights, biases = vectorized_learning(5, 10, 1, weights, biases, sample_train, sample_train_label)\n",
    "    output = np.asarray(calculate_output(sample_train, weights, biases))\n",
    "    cost_epochs.append(cost_epochs)\n",
    "    accuracy.append(calculate_accuracy(output, sample_train_label))\n",
    "    t_stop = process_time()\n",
    "    time.append(t_stop-t_start)\n",
    "\n",
    "print(\"Accuracy:\", sum(accuracy)/len(accuracy))\n",
    "print(\"Process time:\", sum(time)/len(time))"
   ],
   "metadata": {
    "collapsed": false,
    "pycharm": {
     "name": "#%%\n"
    }
   }
  },
  {
   "cell_type": "markdown",
   "source": [
    "### Min Epochs Graph"
   ],
   "metadata": {
    "collapsed": false,
    "pycharm": {
     "name": "#%% md\n"
    }
   }
  },
  {
   "cell_type": "code",
   "execution_count": 418,
   "outputs": [
    {
     "name": "stdout",
     "output_type": "stream",
     "text": [
      "[1.18659200e-05 1.18583456e-05 1.18470111e-05 1.18319487e-05\n",
      " 1.18132000e-05]\n"
     ]
    },
    {
     "data": {
      "text/plain": "<Figure size 432x288 with 1 Axes>",
      "image/png": "[encoded data removed]"
     },
     "metadata": {
      "needs_background": "light"
     },
     "output_type": "display_data"
    }
   ],
   "source": [
    "cost_epochs = np.array(cost_epochs)\n",
    "print(cost_epochs)\n",
    "plt.plot(cost_epochs)\n",
    "plt.show()"
   ],
   "metadata": {
    "collapsed": false,
    "pycharm": {
     "name": "#%%\n"
    }
   }
  },
  {
   "cell_type": "markdown",
   "source": [
    "# Test\n",
    "using all 2000 train data with epochs = 10 and learning rate = 1 and batch size = 10.\n",
    "\n",
    "using Test data to measure the final accuracy of the model"
   ],
   "metadata": {
    "collapsed": false,
    "pycharm": {
     "name": "#%% md\n"
    }
   }
  },
  {
   "cell_type": "code",
   "execution_count": null,
   "outputs": [],
   "source": [
    "cost_epochs, weights, biases = vectorized_learning(10, 10, 1, weights, biases, train_set_features, train_set_labels)\n",
    "\n",
    "\n",
    "output = calculate_output(test_set_features, weights, biases)\n",
    "print(\"Accuracy: \", calculate_accuracy(output, test_set_labels))\n",
    "cost_epochs = np.array(cost_epochs)\n",
    "plt.plot(cost_epochs)\n",
    "plt.show()"
   ],
   "metadata": {
    "collapsed": false,
    "pycharm": {
     "name": "#%%time\n"
    }
   }
  }
 ],
 "metadata": {
  "kernelspec": {
   "display_name": "Python 3 (ipykernel)",
   "language": "python",
   "name": "python3"
  },
  "language_info": {
   "codemirror_mode": {
    "name": "ipython",
    "version": 3
   },
   "file_extension": ".py",
   "mimetype": "text/x-python",
   "name": "python",
   "nbconvert_exporter": "python",
   "pygments_lexer": "ipython3",
   "version": "3.7.4"
  }
 },
 "nbformat": 4,
 "nbformat_minor": 1
}